{
 "cells": [
  {
   "cell_type": "code",
   "execution_count": null,
   "metadata": {},
   "outputs": [],
   "source": [
    "import pandas as pd\n",
    "import numpy as np\n",
    "import csv\n",
    "def removeEmptyRow(path, output_path):\n",
    "   with open(path) as fin:\n",
    "       rows = pd.read_csv(path, header=None)\n",
    "       cols = next(csv.reader(fin))\n",
    "       df = pd.DataFrame(columns=cols)\n",
    "\n",
    "       nan_row = np.array(np.where(pd.isnull(rows)))\n",
    "\n",
    "\n",
    "       print(zip(nan_row, range(len(cols))))\n",
    "\n",
    "       print(len(rows))\n",
    "       for i,j in zip(nan_row, range(len(cols))):\n",
    "           print(i,j)\n",
    "       r = [df.iloc[i, j] for i, j in zip(nan_row, range(len(cols)))]\n",
    "       print(r)\n",
    "       # for row in rows :\n",
    "       #     if not row.empty:\n",
    "       #          df = df.append(row)\n",
    "       # df.to_csv(output_path)\n",
    "\n",
    "if __name__ == \"__main__\":\n",
    "    path = 'simulator.ver3.csv'\n",
    "    output_path = \"simulator3.csv\"\n",
    "    removeEmptyRow(path, output_path)"
   ]
  }
 ],
 "metadata": {
  "kernelspec": {
   "display_name": "Python 3",
   "language": "python",
   "name": "python3"
  },
  "language_info": {
   "codemirror_mode": {
    "name": "ipython",
    "version": 3
   },
   "file_extension": ".py",
   "mimetype": "text/x-python",
   "name": "python",
   "nbconvert_exporter": "python",
   "pygments_lexer": "ipython3",
   "version": "3.7.6"
  }
 },
 "nbformat": 4,
 "nbformat_minor": 4
}
