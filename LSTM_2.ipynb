{
 "cells": [
  {
   "cell_type": "code",
   "execution_count": 15,
   "metadata": {},
   "outputs": [],
   "source": [
    "import os\n",
    "import sys\n",
    "import pandas as pd\n",
    "import numpy as np\n",
    "script_dir = os.getcwd()\n",
    "file = 'simulator1.csv'\n",
    "data = pd.read_csv(file)\n",
    "data.head()\n",
    "x_label = [\"Azimuth (deg)\" , \"Elevation (deg)\" , \"EIRP (dBW)\" , \"Xmtr Gain (dB)\" , \"Xmtr EIRP Intensity (dBW/Sterad)\" , \"Atmos Loss (dB)\"]\n",
    "y_label = [\"Rain Loss (dB)\" , \"CloudsFog Loss (dB)\"]\n",
    "\n",
    "\n",
    "def extract_data(i, j):\n",
    "    X = []\n",
    "    Y = []\n",
    "    for i in range(i, j):\n",
    "        x_sample = []\n",
    "        y_sample = []\n",
    "        for label in x_label:\n",
    "            x_sample.append(float((data[label][i])))\n",
    "        X.append(x_sample)\n",
    "        for label in y_label:\n",
    "            y_sample.append(float((data[label][i])))\n",
    "        Y.append(y_sample)\n",
    "    return np.asarray(X), np.asarray(Y)\n",
    "\n",
    "x_train, y_train =  extract_data(0, 590)\n",
    "x_test, y_test = extract_data(595, 1180)\n",
    "x_validation, y_validation = extract_data(1185, 1691)"
   ]
  },
  {
   "cell_type": "code",
   "execution_count": 16,
   "metadata": {},
   "outputs": [],
   "source": [
    "x_train = x_train.reshape((x_train.shape[0], 1, x_train.shape[1]))\n",
    "x_test = x_test.reshape((x_test.shape[0], 1, x_test.shape[1]))\n"
   ]
  },
  {
   "cell_type": "code",
   "execution_count": 17,
   "metadata": {},
   "outputs": [],
   "source": [
    "import pandas\n",
    "pandas.__version__\n",
    "import numpy\n",
    "#from keras.datasets import imdb\n",
    "from keras.models import Sequential\n",
    "from keras.layers import Dense, Dropout, Flatten\n",
    "from keras.layers import LSTM\n",
    "from keras.layers.embeddings import Embedding\n",
    "from keras.preprocessing import sequence\n",
    "from keras.layers.convolutional import Conv1D    \n",
    "from numpy import concatenate\n",
    "\n",
    "\n",
    "# fix random seed for reproducibility\n",
    "numpy.random.seed(7)"
   ]
  },
  {
   "cell_type": "code",
   "execution_count": 18,
   "metadata": {},
   "outputs": [
    {
     "name": "stdout",
     "output_type": "stream",
     "text": [
      "Train on 590 samples, validate on 585 samples\n",
      "Epoch 1/50\n",
      " - 0s - loss: 0.2310 - val_loss: 0.2099\n",
      "Epoch 2/50\n",
      " - 0s - loss: 0.2020 - val_loss: 0.1807\n",
      "Epoch 3/50\n",
      " - 0s - loss: 0.1758 - val_loss: 0.1530\n",
      "Epoch 4/50\n",
      " - 0s - loss: 0.1573 - val_loss: 0.1314\n",
      "Epoch 5/50\n",
      " - 0s - loss: 0.1436 - val_loss: 0.1168\n",
      "Epoch 6/50\n",
      " - 0s - loss: 0.1270 - val_loss: 0.1046\n",
      "Epoch 7/50\n",
      " - 0s - loss: 0.1096 - val_loss: 0.0951\n",
      "Epoch 8/50\n",
      " - 0s - loss: 0.0956 - val_loss: 0.0872\n",
      "Epoch 9/50\n",
      " - 0s - loss: 0.0833 - val_loss: 0.0759\n",
      "Epoch 10/50\n",
      " - 0s - loss: 0.0730 - val_loss: 0.0656\n",
      "Epoch 11/50\n",
      " - 0s - loss: 0.0643 - val_loss: 0.0571\n",
      "Epoch 12/50\n",
      " - 0s - loss: 0.0564 - val_loss: 0.0487\n",
      "Epoch 13/50\n",
      " - 0s - loss: 0.0497 - val_loss: 0.0438\n",
      "Epoch 14/50\n",
      " - 0s - loss: 0.0466 - val_loss: 0.0393\n",
      "Epoch 15/50\n",
      " - 0s - loss: 0.0434 - val_loss: 0.0345\n",
      "Epoch 16/50\n",
      " - 0s - loss: 0.0404 - val_loss: 0.0302\n",
      "Epoch 17/50\n",
      " - 0s - loss: 0.0370 - val_loss: 0.0306\n",
      "Epoch 18/50\n",
      " - 0s - loss: 0.0351 - val_loss: 0.0295\n",
      "Epoch 19/50\n",
      " - 0s - loss: 0.0336 - val_loss: 0.0283\n",
      "Epoch 20/50\n",
      " - 0s - loss: 0.0319 - val_loss: 0.0269\n",
      "Epoch 21/50\n",
      " - 0s - loss: 0.0308 - val_loss: 0.0259\n",
      "Epoch 22/50\n",
      " - 0s - loss: 0.0294 - val_loss: 0.0261\n",
      "Epoch 23/50\n",
      " - 0s - loss: 0.0289 - val_loss: 0.0278\n",
      "Epoch 24/50\n",
      " - 0s - loss: 0.0275 - val_loss: 0.0260\n",
      "Epoch 25/50\n",
      " - 0s - loss: 0.0265 - val_loss: 0.0249\n",
      "Epoch 26/50\n",
      " - 0s - loss: 0.0252 - val_loss: 0.0243\n",
      "Epoch 27/50\n",
      " - 0s - loss: 0.0242 - val_loss: 0.0245\n",
      "Epoch 28/50\n",
      " - 0s - loss: 0.0232 - val_loss: 0.0231\n",
      "Epoch 29/50\n",
      " - 0s - loss: 0.0224 - val_loss: 0.0232\n",
      "Epoch 30/50\n",
      " - 0s - loss: 0.0210 - val_loss: 0.0221\n",
      "Epoch 31/50\n",
      " - 0s - loss: 0.0201 - val_loss: 0.0229\n",
      "Epoch 32/50\n",
      " - 0s - loss: 0.0192 - val_loss: 0.0230\n",
      "Epoch 33/50\n",
      " - 0s - loss: 0.0175 - val_loss: 0.0214\n",
      "Epoch 34/50\n",
      " - 0s - loss: 0.0163 - val_loss: 0.0205\n",
      "Epoch 35/50\n",
      " - 0s - loss: 0.0139 - val_loss: 0.0198\n",
      "Epoch 36/50\n",
      " - 0s - loss: 0.0121 - val_loss: 0.0202\n",
      "Epoch 37/50\n",
      " - 0s - loss: 0.0112 - val_loss: 0.0191\n",
      "Epoch 38/50\n",
      " - 0s - loss: 0.0107 - val_loss: 0.0186\n",
      "Epoch 39/50\n",
      " - 0s - loss: 0.0100 - val_loss: 0.0194\n",
      "Epoch 40/50\n",
      " - 0s - loss: 0.0098 - val_loss: 0.0180\n",
      "Epoch 41/50\n",
      " - 0s - loss: 0.0092 - val_loss: 0.0177\n",
      "Epoch 42/50\n",
      " - 0s - loss: 0.0087 - val_loss: 0.0171\n",
      "Epoch 43/50\n",
      " - 0s - loss: 0.0080 - val_loss: 0.0166\n",
      "Epoch 44/50\n",
      " - 0s - loss: 0.0082 - val_loss: 0.0170\n",
      "Epoch 45/50\n",
      " - 0s - loss: 0.0075 - val_loss: 0.0158\n",
      "Epoch 46/50\n",
      " - 0s - loss: 0.0080 - val_loss: 0.0161\n",
      "Epoch 47/50\n",
      " - 0s - loss: 0.0072 - val_loss: 0.0156\n",
      "Epoch 48/50\n",
      " - 0s - loss: 0.0071 - val_loss: 0.0142\n",
      "Epoch 49/50\n",
      " - 0s - loss: 0.0067 - val_loss: 0.0156\n",
      "Epoch 50/50\n",
      " - 0s - loss: 0.0067 - val_loss: 0.0153\n"
     ]
    },
    {
     "data": {
      "text/plain": [
       "\"\\n# plot history\\npyplot.plot(history.history['loss'], label='train')\\npyplot.plot(history.history['val_loss'], label='test')\\npyplot.legend()\\npyplot.show()\\n\""
      ]
     },
     "execution_count": 18,
     "metadata": {},
     "output_type": "execute_result"
    }
   ],
   "source": [
    "# design network\n",
    "model = Sequential()\n",
    "model.add(LSTM(len(x_label), input_shape=(x_train.shape[1], x_train.shape[2])))\n",
    "model.add(Dense(2))\n",
    "model.compile(loss='mae', optimizer='adam')\n",
    "# fit network\n",
    "history = model.fit(x_train, y_train, epochs=50, batch_size=72, validation_data=(x_test, y_test), verbose=2, shuffle=False)\n",
    "\"\"\"\n",
    "# plot history\n",
    "pyplot.plot(history.history['loss'], label='train')\n",
    "pyplot.plot(history.history['val_loss'], label='test')\n",
    "pyplot.legend()\n",
    "pyplot.show()\n",
    "\"\"\""
   ]
  },
  {
   "cell_type": "code",
   "execution_count": 19,
   "metadata": {},
   "outputs": [],
   "source": [
    "#model.predict(x_test)"
   ]
  },
  {
   "cell_type": "code",
   "execution_count": 23,
   "metadata": {},
   "outputs": [
    {
     "name": "stdout",
     "output_type": "stream",
     "text": [
      "[[0.00055302 0.00093309]\n",
      " [0.00055302 0.00093309]\n",
      " [0.00055302 0.00093309]\n",
      " ...\n",
      " [0.00055302 0.00093309]\n",
      " [0.00055302 0.00093309]\n",
      " [0.00055302 0.00093309]]\n",
      "y_test [[0.0024 0.0029]\n",
      " [0.0024 0.0029]\n",
      " [0.0023 0.0028]\n",
      " ...\n",
      " [0.0024 0.0029]\n",
      " [0.0024 0.0029]\n",
      " [0.0024 0.0029]]\n",
      "585 585\n"
     ]
    },
    {
     "data": {
      "text/plain": [
       "\"x_test = x_test.reshape((x_test.shape[0], x_test.shape[2]))\\n# invert scaling for forecast\\ninv_yhat = concatenate((yhat, x_test[:, 1:]), axis=1)\\n# inv_yhat = scaler.inverse_transform(inv_yhat)\\ninv_yhat = inv_yhat[:,0]\\n# invert scaling for actual\\ny_test = y_test.reshape((y_test.shape[0], y_test.shape[2]))\\n#y_test = y_test.reshape((len(y_test), 1))\\ninv_y = concatenate((y_test, x_test[:, 1:]), axis=1)\\n# inv_y = scaler.inverse_transform(inv_y)\\ninv_y = inv_y[:,0]\\n# calculate RMSE\\nrmse = sqrt(mean_squared_error(inv_y, inv_yhat))\\nprint('Test RMSE: %.3f' % rmse)\""
      ]
     },
     "execution_count": 23,
     "metadata": {},
     "output_type": "execute_result"
    }
   ],
   "source": [
    "# make a prediction\n",
    "yhat = model.predict(x_test)\n",
    "print(yhat)\n",
    "print(\"y_test\", y_test)\n",
    "print(len(yhat),len(y_test))\n",
    "x_test = x_test.reshape((x_test.shape[0], x_test.shape[2]))\n",
    "# invert scaling for forecast\n",
    "inv_yhat = concatenate((yhat, x_test[:, 1:]), axis=1)\n",
    "# inv_yhat = scaler.inverse_transform(inv_yhat)\n",
    "inv_yhat = inv_yhat[:,0]\n",
    "# invert scaling for actual\n",
    "y_test = y_test.reshape((len(y_test), 1))\n",
    "inv_y = concatenate((y_test, x_test[:, 1:]), axis=1)\n",
    "# inv_y = scaler.inverse_transform(inv_y)\n",
    "inv_y = inv_y[:,0]\n",
    "# calculate RMSE\n",
    "rmse = sqrt(mean_squared_error(inv_y, inv_yhat))\n",
    "print('Test RMSE: %.3f' % rmse)"
   ]
  },
  {
   "cell_type": "code",
   "execution_count": null,
   "metadata": {},
   "outputs": [],
   "source": []
  },
  {
   "cell_type": "code",
   "execution_count": null,
   "metadata": {},
   "outputs": [],
   "source": []
  },
  {
   "cell_type": "code",
   "execution_count": null,
   "metadata": {},
   "outputs": [],
   "source": []
  },
  {
   "cell_type": "code",
   "execution_count": null,
   "metadata": {},
   "outputs": [],
   "source": []
  },
  {
   "cell_type": "code",
   "execution_count": null,
   "metadata": {},
   "outputs": [],
   "source": []
  }
 ],
 "metadata": {
  "kernelspec": {
   "display_name": "Python 3",
   "language": "python",
   "name": "python3"
  },
  "language_info": {
   "codemirror_mode": {
    "name": "ipython",
    "version": 3
   },
   "file_extension": ".py",
   "mimetype": "text/x-python",
   "name": "python",
   "nbconvert_exporter": "python",
   "pygments_lexer": "ipython3",
   "version": "3.7.6"
  }
 },
 "nbformat": 4,
 "nbformat_minor": 4
}
