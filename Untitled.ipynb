{
 "cells": [
  {
   "cell_type": "markdown",
   "metadata": {},
   "source": [
    "## split data from csv"
   ]
  },
  {
   "cell_type": "code",
   "execution_count": 19,
   "metadata": {},
   "outputs": [
    {
     "name": "stdout",
     "output_type": "stream",
     "text": [
      "[145.99, 5.0, -527.95, -557.9505, -538.942553, 0.3577] [265.343, 5.0, -528.427, -558.4269, -539.419035, 0.3656]\n",
      "[0.0024, 0.0029]\n"
     ]
    }
   ],
   "source": [
    "import os\n",
    "import sys\n",
    "import pandas as pd\n",
    "script_dir = os.getcwd()\n",
    "file = 'simulator1.csv'\n",
    "data = pd.read_csv(file)\n",
    "data.head()\n",
    "x_label = [\"Azimuth (deg)\" , \"Elevation (deg)\" , \"EIRP (dBW)\" , \"Xmtr Gain (dB)\" , \"Xmtr EIRP Intensity (dBW/Sterad)\" , \"Atmos Loss (dB)\"]\n",
    "y_label = [\"Rain Loss (dB)\" , \"CloudsFog Loss (dB)\"]\n",
    "\n",
    "\n",
    "\n",
    "\n",
    "def extract_data(i, j):\n",
    "    X = []\n",
    "    Y = []\n",
    "    for i in range(i, j):\n",
    "        x_sample = []\n",
    "        y_sample = []\n",
    "        for label in x_label:\n",
    "            x_sample.append(float((data[label][i])))\n",
    "        X.append(x_sample)\n",
    "        for label in y_label:\n",
    "            y_sample.append(float((data[label][i])))\n",
    "        Y.append(y_sample)\n",
    "    return X, Y\n",
    "\n",
    "x_train, y_train =  extract_data(0, 590)\n",
    "x_test, y_test = extract_data(595, 1180)\n",
    "x_validation, y_validation = extract_data(1185, 1691)\n",
    "    \n",
    "print(x_validation[-1], x_validation[0])\n",
    "print(y_train[-1])\n"
   ]
  },
  {
   "cell_type": "code",
   "execution_count": 14,
   "metadata": {},
   "outputs": [
    {
     "name": "stdout",
     "output_type": "stream",
     "text": [
      "0\n",
      "1\n",
      "2\n",
      "3\n",
      "4\n",
      "5\n",
      "6\n",
      "7\n",
      "8\n",
      "9\n"
     ]
    }
   ],
   "source": [
    "for i in range(0, 10):\n",
    "    print(i)"
   ]
  },
  {
   "cell_type": "code",
   "execution_count": null,
   "metadata": {},
   "outputs": [],
   "source": [
    "train_X = train_X.reshape((train_X.shape[0], 1, train_X.shape[1]))\n",
    "test_X = test_X.reshape((test_X.shape[0], 1, test_X.shape[1]))\n"
   ]
  },
  {
   "cell_type": "code",
   "execution_count": null,
   "metadata": {},
   "outputs": [],
   "source": []
  }
 ],
 "metadata": {
  "kernelspec": {
   "display_name": "Python 3",
   "language": "python",
   "name": "python3"
  },
  "language_info": {
   "codemirror_mode": {
    "name": "ipython",
    "version": 3
   },
   "file_extension": ".py",
   "mimetype": "text/x-python",
   "name": "python",
   "nbconvert_exporter": "python",
   "pygments_lexer": "ipython3",
   "version": "3.7.6"
  }
 },
 "nbformat": 4,
 "nbformat_minor": 4
}
